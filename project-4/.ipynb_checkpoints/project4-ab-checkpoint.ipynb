{
 "cells": [
  {
   "cell_type": "markdown",
   "metadata": {},
   "source": [
    "# Project 4\n",
    "\n",
    "In this project, you will summarize and present your analysis from Projects 1-3."
   ]
  },
  {
   "cell_type": "markdown",
   "metadata": {},
   "source": [
    "### Intro: Write a problem Statement/ Specific Aim for this project"
   ]
  },
  {
   "cell_type": "markdown",
   "metadata": {},
   "source": [
    "Answer: I want to see how variable such as GRE score, GPA, and prestige of the undergraduate institution affect admission into graduate school."
   ]
  },
  {
   "cell_type": "markdown",
   "metadata": {},
   "source": [
    "### Dataset:  Write up a description of your data and any cleaning that was completed"
   ]
  },
  {
   "cell_type": "markdown",
   "metadata": {},
   "source": [
    "Answer: GRE score, GPA and prestige will be the predictor variables, and the response variable will be admit (1 if admitted, 0 if not admitted).  GRE and GPA will be continuous; prestige will be broken out as binary variables prestige 1 through prestige 4, with prestige 1 being the most prestigious institution and prestige 4 being the least.  Basic descriptive analytics will be done to each variable to determine if there are any Null values."
   ]
  },
  {
   "cell_type": "markdown",
   "metadata": {
    "collapsed": true
   },
   "source": [
    "### Demo: Provide a table that explains the data by admission status"
   ]
  },
  {
   "cell_type": "code",
   "execution_count": 9,
   "metadata": {
    "collapsed": false
   },
   "outputs": [],
   "source": [
    "%matplotlib inline\n",
    "import matplotlib.pyplot as plt\n",
    "import pandas as pd\n",
    "import statsmodels.api as sm\n",
    "import pylab as pl\n",
    "import numpy as np"
   ]
  },
  {
   "cell_type": "code",
   "execution_count": 54,
   "metadata": {
    "collapsed": false
   },
   "outputs": [
    {
     "name": "stdout",
     "output_type": "stream",
     "text": [
      "   admit    gre   gpa  prestige\n",
      "0      0  380.0  3.61       3.0\n",
      "1      1  660.0  3.67       3.0\n",
      "2      1  800.0  4.00       1.0\n",
      "3      1  640.0  3.19       4.0\n",
      "4      0  520.0  2.93       4.0\n"
     ]
    }
   ],
   "source": [
    "#Read in data from source \n",
    "df_raw = pd.read_csv(\"../assets/admissions.csv\")\n",
    "df = df_raw.dropna() \n",
    "print df.head()"
   ]
  },
  {
   "cell_type": "code",
   "execution_count": 55,
   "metadata": {
    "collapsed": false
   },
   "outputs": [
    {
     "name": "stdout",
     "output_type": "stream",
     "text": [
      "            admit         gre         gpa    prestige\n",
      "count  397.000000  397.000000  397.000000  397.000000\n",
      "mean     0.317380  587.858942    3.392242    2.488665\n",
      "std      0.466044  115.717787    0.380208    0.947083\n",
      "min      0.000000  220.000000    2.260000    1.000000\n",
      "25%      0.000000  520.000000    3.130000    2.000000\n",
      "50%      0.000000  580.000000    3.400000    2.000000\n",
      "75%      1.000000  660.000000    3.670000    3.000000\n",
      "max      1.000000  800.000000    4.000000    4.000000\n"
     ]
    }
   ],
   "source": [
    "print df.describe()"
   ]
  },
  {
   "cell_type": "code",
   "execution_count": 49,
   "metadata": {
    "collapsed": false
   },
   "outputs": [
    {
     "name": "stdout",
     "output_type": "stream",
     "text": [
      "            admit         gre         gpa  prestige_1.0  prestige_2.0  \\\n",
      "count  397.000000  397.000000  397.000000    397.000000    397.000000   \n",
      "mean     0.317380  587.858942    3.392242      0.153652      0.372796   \n",
      "std      0.466044  115.717787    0.380208      0.361070      0.484159   \n",
      "min      0.000000  220.000000    2.260000      0.000000      0.000000   \n",
      "25%      0.000000  520.000000    3.130000      0.000000      0.000000   \n",
      "50%      0.000000  580.000000    3.400000      0.000000      0.000000   \n",
      "75%      1.000000  660.000000    3.670000      0.000000      1.000000   \n",
      "max      1.000000  800.000000    4.000000      1.000000      1.000000   \n",
      "\n",
      "       prestige_3.0  prestige_4.0  \n",
      "count    397.000000    397.000000  \n",
      "mean       0.304786      0.168766  \n",
      "std        0.460898      0.375017  \n",
      "min        0.000000      0.000000  \n",
      "25%        0.000000      0.000000  \n",
      "50%        0.000000      0.000000  \n",
      "75%        1.000000      0.000000  \n",
      "max        1.000000      1.000000  \n"
     ]
    }
   ],
   "source": [
    "dummy_ranks = pd.get_dummies(df['prestige'], prefix = 'prestige')\n",
    "cols_to_keep = ['admit', 'gre', 'gpa']\n",
    "df = df[cols_to_keep].join(dummy_ranks.ix[:,:])\n",
    "print df.describe()"
   ]
  },
  {
   "cell_type": "code",
   "execution_count": 62,
   "metadata": {
    "collapsed": false
   },
   "outputs": [
    {
     "name": "stdout",
     "output_type": "stream",
     "text": [
      "       admit         gre         gpa    prestige\n",
      "count  271.0  271.000000  271.000000  271.000000\n",
      "mean     0.0  573.579336    3.347159    2.645756\n",
      "std      0.0  116.052798    0.376355    0.918922\n",
      "min      0.0  220.000000    2.260000    1.000000\n",
      "25%      0.0  500.000000    3.080000    2.000000\n",
      "50%      0.0  580.000000    3.340000    3.000000\n",
      "75%      0.0  660.000000    3.610000    3.000000\n",
      "max      0.0  800.000000    4.000000    4.000000\n",
      "       admit         gre         gpa    prestige\n",
      "count  126.0  126.000000  126.000000  126.000000\n",
      "mean     1.0  618.571429    3.489206    2.150794\n",
      "std      0.0  109.257233    0.371655    0.921455\n",
      "min      1.0  300.000000    2.420000    1.000000\n",
      "25%      1.0  540.000000    3.220000    1.000000\n",
      "50%      1.0  620.000000    3.545000    2.000000\n",
      "75%      1.0  680.000000    3.757500    3.000000\n",
      "max      1.0  800.000000    4.000000    4.000000\n",
      "prestige  1.0  2.0  3.0  4.0\n",
      "admit                       \n",
      "0          28   95   93   55\n",
      "1          33   53   28   12\n"
     ]
    }
   ],
   "source": [
    "df_admit0 = df.query('admit == 0')\n",
    "df_admit1 = df.query('admit == 1')\n",
    "print df_admit0.describe()\n",
    "print df_admit1.describe()\n",
    "print pd.crosstab(df['admit'], df['prestige'], rownames=['admit'])"
   ]
  },
  {
   "cell_type": "markdown",
   "metadata": {},
   "source": [
    "Mean (STD) or counts by admission status for each variable \n",
    "\n",
    "| Not Admitted | Admitted\n",
    "---| ---|---\n",
    "GPA | mean 3.347158 (std 0.376355)  | mean 3.489206 (std 0.371655)\n",
    "GRE | mean 573.579336 (std 116.052798) | mean 618.571429 (std 109.257233)\n",
    "Prestige 1 | 28 (10.3 %) | 33 (26.2 %)\n",
    "Prestige 2 | 95 (35.1 %) | 53 (42.1 %)\n",
    "Prestige 3 | 93 (34.3 %) | 28 (22.2 %)\n",
    "Prestige 4 | 55 (20.3 %) | 12 (9.5 %)"
   ]
  },
  {
   "cell_type": "markdown",
   "metadata": {},
   "source": [
    "### Methods: Write up the methods used in your analysis"
   ]
  },
  {
   "cell_type": "markdown",
   "metadata": {},
   "source": [
    "Answer:  Built a logistic regression model and computed the odd ratio for each coefficient"
   ]
  },
  {
   "cell_type": "markdown",
   "metadata": {},
   "source": [
    "### Results: Write up your results"
   ]
  },
  {
   "cell_type": "markdown",
   "metadata": {},
   "source": [
    "Answer:  From the odds ratio, I found that for every unit increase in 'gpa', the odds of being admitted to graduate school versus not being admitted increased by a factor of 2.18.  An odd ratio of 0.50 for Prestige_2 tells us that we can expect the odds of being admitted to decrease by 50% if the prestige of the school is 2."
   ]
  },
  {
   "cell_type": "markdown",
   "metadata": {},
   "source": [
    "### Visuals: Provide a table or visualization of these results"
   ]
  },
  {
   "cell_type": "code",
   "execution_count": 70,
   "metadata": {
    "collapsed": false
   },
   "outputs": [
    {
     "name": "stdout",
     "output_type": "stream",
     "text": [
      "Optimization terminated successfully.\n",
      "         Current function value: 0.597847\n",
      "         Iterations 5\n",
      "                           Logit Regression Results                           \n",
      "==============================================================================\n",
      "Dep. Variable:                  admit   No. Observations:                  397\n",
      "Model:                          Logit   Df Residuals:                      391\n",
      "Method:                           MLE   Df Model:                            5\n",
      "Date:                Wed, 03 Aug 2016   Pseudo R-squ.:                 0.04326\n",
      "Time:                        23:42:09   Log-Likelihood:                -237.35\n",
      "converged:                       True   LL-Null:                       -248.08\n",
      "                                        LLR p-value:                 0.0006619\n",
      "================================================================================\n",
      "                   coef    std err          z      P>|z|      [95.0% Conf. Int.]\n",
      "--------------------------------------------------------------------------------\n",
      "gre              0.0025      0.001      2.379      0.017         0.000     0.005\n",
      "gpa              0.7082      0.323      2.192      0.028         0.075     1.341\n",
      "prestige_2.0     0.3664      0.320      1.144      0.253        -0.261     0.994\n",
      "prestige_3.0     0.4412      0.317      1.390      0.164        -0.181     1.063\n",
      "prestige_4.0     0.0871      0.328      0.265      0.791        -0.556     0.730\n",
      "intercept       -4.9304      1.092     -4.515      0.000        -7.071    -2.790\n",
      "================================================================================\n",
      "                  2.5%     97.5%        OR\n",
      "gre           1.000446  1.004629  1.002535\n",
      "gpa           1.077936  3.824050  2.030291\n",
      "prestige_2.0  0.770098  2.701901  1.442473\n",
      "prestige_3.0  0.834597  2.895704  1.554588\n",
      "prestige_4.0  0.573404  2.075661  1.090959\n",
      "intercept     0.000850  0.061401  0.007223\n"
     ]
    },
    {
     "name": "stderr",
     "output_type": "stream",
     "text": [
      "/Users/anneil/anaconda/lib/python2.7/site-packages/ipykernel/__main__.py:33: VisibleDeprecationWarning: using a non-integer number instead of an integer will result in an error in the future\n",
      "/Users/anneil/anaconda/lib/python2.7/site-packages/ipykernel/__main__.py:35: VisibleDeprecationWarning: using a non-integer number instead of an integer will result in an error in the future\n"
     ]
    },
    {
     "data": {
      "image/png": "[encoded data removed]",
      "text/plain": [
       "<matplotlib.figure.Figure at 0x11a8e89d0>"
      ]
     },
     "metadata": {},
     "output_type": "display_data"
    },
    {
     "name": "stdout",
     "output_type": "stream",
     "text": [
      "None\n"
     ]
    },
    {
     "data": {
      "image/png": "[encoded data removed]",
      "text/plain": [
       "<matplotlib.figure.Figure at 0x11a922510>"
      ]
     },
     "metadata": {},
     "output_type": "display_data"
    },
    {
     "name": "stdout",
     "output_type": "stream",
     "text": [
      "None\n"
     ]
    }
   ],
   "source": [
    "# create a clean data frame for the regression\n",
    "cols_to_keep = ['admit', 'gre', 'gpa']\n",
    "data = df[cols_to_keep].join(dummy_ranks.ix[:, 'prestige_2':])\n",
    "\n",
    "# manually add the intercept\n",
    "data['intercept'] = 1.0\n",
    "\n",
    "train_cols = data.columns[1:]\n",
    "\n",
    "logit = sm.Logit(data['admit'], data[train_cols])\n",
    "\n",
    "result = logit.fit()\n",
    "\n",
    "print result.summary()\n",
    "\n",
    "params = result.params\n",
    "conf = result.conf_int()\n",
    "conf['OR'] = params\n",
    "conf.columns = ['2.5%', '97.5%', 'OR']\n",
    "print np.exp(conf)\n",
    "\n",
    "def cartesian(arrays, out=None):\n",
    "    arrays = [np.asarray(x) for x in arrays]\n",
    "    dtype = arrays[0].dtype\n",
    "\n",
    "    n = np.prod([x.size for x in arrays])\n",
    "    if out is None:\n",
    "        out = np.zeros([n, len(arrays)], dtype=dtype)\n",
    "\n",
    "    m = n / arrays[0].size\n",
    "    out[:,0] = np.repeat(arrays[0], m)\n",
    "    if arrays[1:]:\n",
    "        cartesian(arrays[1:], out=out[0:m,1:])\n",
    "        for j in xrange(1, arrays[0].size):\n",
    "            out[j*m:(j+1)*m,1:] = out[0:m,1:]\n",
    "    return out\n",
    "\n",
    "gres = np.linspace(data['gre'].min(), data['gre'].max(), 10)\n",
    "\n",
    "gpas = np.linspace(data['gpa'].min(), data['gpa'].max(), 10)\n",
    "\n",
    "combos = pd.DataFrame(cartesian([gres, gpas, [1, 2, 3, 4], [1.]]))\n",
    "\n",
    "# recreate the dummy variables\n",
    "combos.columns = ['gre', 'gpa', 'prestige', 'intercept']\n",
    "dummy_ranks = pd.get_dummies(combos['prestige'], prefix='prestige')\n",
    "dummy_ranks.columns = ['prestige_1.0', 'prestige_2.0', 'prestige_3.0', 'prestige_4.0']\n",
    "\n",
    "# keep only what we need for making predictions\n",
    "cols_to_keep = ['gre', 'gpa', 'prestige', 'intercept']\n",
    "combos = combos[cols_to_keep].join(dummy_ranks.ix[:, 'prestige_2.0':])\n",
    "\n",
    "combos['admit_pred'] = result.predict(combos[train_cols])\n",
    "\n",
    "\n",
    "def isolate_and_plot(variable):\n",
    "    # isolate gre and class rank\n",
    "    grouped = pd.pivot_table(combos, values=['admit_pred'], index=[variable, 'prestige'],\n",
    "                            aggfunc=np.mean)\n",
    "    \n",
    "    # make a plot\n",
    "    colors = 'rbgyrbgy'\n",
    "    for col in combos.prestige.unique():\n",
    "        plt_data = grouped.ix[grouped.index.get_level_values(1)==col]\n",
    "        pl.plot(plt_data.index.get_level_values(0), plt_data['admit_pred'],\n",
    "                color=colors[int(col)])\n",
    "\n",
    "    pl.xlabel(variable)\n",
    "    pl.ylabel(\"P(admit=1)\")\n",
    "    pl.legend(['1', '2', '3', '4'], loc='upper left', title='Prestige')\n",
    "    pl.title(\"Prob(admit=1) isolating \" + variable + \" and presitge\")\n",
    "    pl.show()\n",
    "\n",
    "print isolate_and_plot('gre')\n",
    "print isolate_and_plot('gpa')"
   ]
  },
  {
   "cell_type": "markdown",
   "metadata": {},
   "source": [
    "Answer:  as you can see in both graphs, prestige 1 outperformed all of the other prestige levels without regard to the gpa or gre score"
   ]
  },
  {
   "cell_type": "markdown",
   "metadata": {},
   "source": [
    "### Discussion: Write up your discussion and future steps"
   ]
  },
  {
   "cell_type": "markdown",
   "metadata": {},
   "source": [
    "Answer: Determine if the prestige of the undergraduate institute is less significant if the data is striated across different graduate programs or different schools.  For example, compare the students at a school in a particular program and their average GPA, GRE scores and prestige of their undergraduate institution to the students that are applying.  It is possible that for some programs or school, the prestige of the undergraduate institution is not as significant as GPA or GRE scores."
   ]
  },
  {
   "cell_type": "code",
   "execution_count": null,
   "metadata": {
    "collapsed": true
   },
   "outputs": [],
   "source": []
  }
 ],
 "metadata": {
  "anaconda-cloud": {},
  "kernelspec": {
   "display_name": "Python 2",
   "language": "python",
   "name": "python2"
  },
  "language_info": {
   "codemirror_mode": {
    "name": "ipython",
    "version": 2
   },
   "file_extension": ".py",
   "mimetype": "text/x-python",
   "name": "python",
   "nbconvert_exporter": "python",
   "pygments_lexer": "ipython2",
   "version": "2.7.11"
  }
 },
 "nbformat": 4,
 "nbformat_minor": 0
}
