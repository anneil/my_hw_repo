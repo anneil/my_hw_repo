{
 "cells": [
  {
   "cell_type": "code",
   "execution_count": 1,
   "metadata": {
    "collapsed": false
   },
   "outputs": [],
   "source": [
    "%matplotlib inline\n",
    "from matplotlib import pyplot as plt\n",
    "import pandas as pd\n",
    "import statsmodels.api as sm\n",
    "import pylab as pl\n",
    "import numpy as np\n",
    "import statsmodels.formula.api as smf"
   ]
  },
  {
   "cell_type": "code",
   "execution_count": 2,
   "metadata": {
    "collapsed": false
   },
   "outputs": [
    {
     "name": "stdout",
     "output_type": "stream",
     "text": [
      "<class 'pandas.core.frame.DataFrame'>\n",
      "RangeIndex: 31 entries, 0 to 30\n",
      "Data columns (total 18 columns):\n",
      "Month                  31 non-null object\n",
      "Sessions               31 non-null int64\n",
      "Potential_Revenue      18 non-null float64\n",
      "Reservations           31 non-null int64\n",
      "Cost                   31 non-null float64\n",
      "CVR                    31 non-null float64\n",
      "Avg_Rev_per_Trans      18 non-null float64\n",
      "Open_Rooms             31 non-null int64\n",
      "Rented_Rooms           31 non-null int64\n",
      "Occupancy              31 non-null float64\n",
      "Avg_Web_Price          31 non-null float64\n",
      "Per_Visit_Value        18 non-null float64\n",
      "Clicks                 31 non-null int64\n",
      "Click_Through_Rate     31 non-null float64\n",
      "Cost_per_Click         31 non-null float64\n",
      "Revenue_per_Click      18 non-null float64\n",
      "Total_Reservations     31 non-null int64\n",
      "Percent_Paid_Search    31 non-null float64\n",
      "dtypes: float64(11), int64(6), object(1)\n",
      "memory usage: 4.4+ KB\n"
     ]
    }
   ],
   "source": [
    "##import data\n",
    "df = pd.read_csv(\"P://Python/paid_search_data.csv\")\n",
    "df.info()"
   ]
  },
  {
   "cell_type": "code",
   "execution_count": 4,
   "metadata": {
    "collapsed": false
   },
   "outputs": [
    {
     "data": {
      "text/html": [
       "<div>\n",
       "<table border=\"1\" class=\"dataframe\">\n",
       "  <thead>\n",
       "    <tr style=\"text-align: right;\">\n",
       "      <th></th>\n",
       "      <th>Sessions</th>\n",
       "      <th>Potential_Revenue</th>\n",
       "      <th>Reservations</th>\n",
       "      <th>Cost</th>\n",
       "      <th>CVR</th>\n",
       "      <th>Avg_Rev_per_Trans</th>\n",
       "      <th>Open_Rooms</th>\n",
       "      <th>Rented_Rooms</th>\n",
       "      <th>Occupancy</th>\n",
       "      <th>Avg_Web_Price</th>\n",
       "      <th>Per_Visit_Value</th>\n",
       "      <th>Clicks</th>\n",
       "      <th>Click_Through_Rate</th>\n",
       "      <th>Cost_per_Click</th>\n",
       "      <th>Revenue_per_Click</th>\n",
       "      <th>Total_Reservations</th>\n",
       "      <th>Percent_Paid_Search</th>\n",
       "    </tr>\n",
       "  </thead>\n",
       "  <tbody>\n",
       "    <tr>\n",
       "      <th>count</th>\n",
       "      <td>31.000000</td>\n",
       "      <td>18.000000</td>\n",
       "      <td>31.000000</td>\n",
       "      <td>31.000000</td>\n",
       "      <td>31.000000</td>\n",
       "      <td>18.000000</td>\n",
       "      <td>31.000000</td>\n",
       "      <td>31.000000</td>\n",
       "      <td>31.000000</td>\n",
       "      <td>31.000000</td>\n",
       "      <td>18.000000</td>\n",
       "      <td>31.000000</td>\n",
       "      <td>31.000000</td>\n",
       "      <td>31.000000</td>\n",
       "      <td>18.000000</td>\n",
       "      <td>31.000000</td>\n",
       "      <td>31.000000</td>\n",
       "    </tr>\n",
       "    <tr>\n",
       "      <th>mean</th>\n",
       "      <td>12372.193548</td>\n",
       "      <td>42956.833333</td>\n",
       "      <td>304.870968</td>\n",
       "      <td>77155.591935</td>\n",
       "      <td>2.481613</td>\n",
       "      <td>129.713333</td>\n",
       "      <td>3374.096774</td>\n",
       "      <td>51602.612903</td>\n",
       "      <td>0.938387</td>\n",
       "      <td>137.204516</td>\n",
       "      <td>3.318333</td>\n",
       "      <td>10197.967742</td>\n",
       "      <td>0.981290</td>\n",
       "      <td>8.368065</td>\n",
       "      <td>4.053889</td>\n",
       "      <td>701.387097</td>\n",
       "      <td>0.488710</td>\n",
       "    </tr>\n",
       "    <tr>\n",
       "      <th>std</th>\n",
       "      <td>3288.371263</td>\n",
       "      <td>17591.834975</td>\n",
       "      <td>119.241140</td>\n",
       "      <td>34274.368708</td>\n",
       "      <td>0.616177</td>\n",
       "      <td>24.567226</td>\n",
       "      <td>1041.756669</td>\n",
       "      <td>1202.802967</td>\n",
       "      <td>0.019510</td>\n",
       "      <td>26.009648</td>\n",
       "      <td>0.949367</td>\n",
       "      <td>3406.207593</td>\n",
       "      <td>1.335225</td>\n",
       "      <td>2.705433</td>\n",
       "      <td>1.151276</td>\n",
       "      <td>366.832721</td>\n",
       "      <td>0.173277</td>\n",
       "    </tr>\n",
       "    <tr>\n",
       "      <th>min</th>\n",
       "      <td>8954.000000</td>\n",
       "      <td>18573.000000</td>\n",
       "      <td>125.000000</td>\n",
       "      <td>23930.450000</td>\n",
       "      <td>1.100000</td>\n",
       "      <td>95.810000</td>\n",
       "      <td>1476.000000</td>\n",
       "      <td>50079.000000</td>\n",
       "      <td>0.910000</td>\n",
       "      <td>103.360000</td>\n",
       "      <td>1.680000</td>\n",
       "      <td>6883.000000</td>\n",
       "      <td>0.190000</td>\n",
       "      <td>2.410000</td>\n",
       "      <td>1.940000</td>\n",
       "      <td>225.000000</td>\n",
       "      <td>0.200000</td>\n",
       "    </tr>\n",
       "    <tr>\n",
       "      <th>25%</th>\n",
       "      <td>10589.500000</td>\n",
       "      <td>NaN</td>\n",
       "      <td>233.500000</td>\n",
       "      <td>48775.285000</td>\n",
       "      <td>2.030000</td>\n",
       "      <td>NaN</td>\n",
       "      <td>2706.500000</td>\n",
       "      <td>50465.000000</td>\n",
       "      <td>0.920000</td>\n",
       "      <td>118.590000</td>\n",
       "      <td>NaN</td>\n",
       "      <td>8715.500000</td>\n",
       "      <td>0.460000</td>\n",
       "      <td>6.630000</td>\n",
       "      <td>NaN</td>\n",
       "      <td>435.500000</td>\n",
       "      <td>0.370000</td>\n",
       "    </tr>\n",
       "    <tr>\n",
       "      <th>50%</th>\n",
       "      <td>11537.000000</td>\n",
       "      <td>NaN</td>\n",
       "      <td>285.000000</td>\n",
       "      <td>77458.520000</td>\n",
       "      <td>2.590000</td>\n",
       "      <td>NaN</td>\n",
       "      <td>3521.000000</td>\n",
       "      <td>51884.000000</td>\n",
       "      <td>0.940000</td>\n",
       "      <td>130.940000</td>\n",
       "      <td>NaN</td>\n",
       "      <td>9363.000000</td>\n",
       "      <td>0.750000</td>\n",
       "      <td>8.810000</td>\n",
       "      <td>NaN</td>\n",
       "      <td>658.000000</td>\n",
       "      <td>0.430000</td>\n",
       "    </tr>\n",
       "    <tr>\n",
       "      <th>75%</th>\n",
       "      <td>12800.500000</td>\n",
       "      <td>NaN</td>\n",
       "      <td>349.000000</td>\n",
       "      <td>94094.595000</td>\n",
       "      <td>2.895000</td>\n",
       "      <td>NaN</td>\n",
       "      <td>4146.000000</td>\n",
       "      <td>52096.000000</td>\n",
       "      <td>0.950000</td>\n",
       "      <td>149.310000</td>\n",
       "      <td>NaN</td>\n",
       "      <td>10259.000000</td>\n",
       "      <td>1.120000</td>\n",
       "      <td>10.435000</td>\n",
       "      <td>NaN</td>\n",
       "      <td>806.000000</td>\n",
       "      <td>0.635000</td>\n",
       "    </tr>\n",
       "    <tr>\n",
       "      <th>max</th>\n",
       "      <td>26508.000000</td>\n",
       "      <td>82462.000000</td>\n",
       "      <td>640.000000</td>\n",
       "      <td>192555.500000</td>\n",
       "      <td>3.710000</td>\n",
       "      <td>174.140000</td>\n",
       "      <td>4951.000000</td>\n",
       "      <td>54118.000000</td>\n",
       "      <td>0.970000</td>\n",
       "      <td>200.950000</td>\n",
       "      <td>4.770000</td>\n",
       "      <td>24024.000000</td>\n",
       "      <td>7.860000</td>\n",
       "      <td>12.640000</td>\n",
       "      <td>6.180000</td>\n",
       "      <td>1667.000000</td>\n",
       "      <td>0.980000</td>\n",
       "    </tr>\n",
       "  </tbody>\n",
       "</table>\n",
       "</div>"
      ],
      "text/plain": [
       "           Sessions  Potential_Revenue  Reservations           Cost  \\\n",
       "count     31.000000          18.000000     31.000000      31.000000   \n",
       "mean   12372.193548       42956.833333    304.870968   77155.591935   \n",
       "std     3288.371263       17591.834975    119.241140   34274.368708   \n",
       "min     8954.000000       18573.000000    125.000000   23930.450000   \n",
       "25%    10589.500000                NaN    233.500000   48775.285000   \n",
       "50%    11537.000000                NaN    285.000000   77458.520000   \n",
       "75%    12800.500000                NaN    349.000000   94094.595000   \n",
       "max    26508.000000       82462.000000    640.000000  192555.500000   \n",
       "\n",
       "             CVR  Avg_Rev_per_Trans   Open_Rooms  Rented_Rooms  Occupancy  \\\n",
       "count  31.000000          18.000000    31.000000     31.000000  31.000000   \n",
       "mean    2.481613         129.713333  3374.096774  51602.612903   0.938387   \n",
       "std     0.616177          24.567226  1041.756669   1202.802967   0.019510   \n",
       "min     1.100000          95.810000  1476.000000  50079.000000   0.910000   \n",
       "25%     2.030000                NaN  2706.500000  50465.000000   0.920000   \n",
       "50%     2.590000                NaN  3521.000000  51884.000000   0.940000   \n",
       "75%     2.895000                NaN  4146.000000  52096.000000   0.950000   \n",
       "max     3.710000         174.140000  4951.000000  54118.000000   0.970000   \n",
       "\n",
       "       Avg_Web_Price  Per_Visit_Value        Clicks  Click_Through_Rate  \\\n",
       "count      31.000000        18.000000     31.000000           31.000000   \n",
       "mean      137.204516         3.318333  10197.967742            0.981290   \n",
       "std        26.009648         0.949367   3406.207593            1.335225   \n",
       "min       103.360000         1.680000   6883.000000            0.190000   \n",
       "25%       118.590000              NaN   8715.500000            0.460000   \n",
       "50%       130.940000              NaN   9363.000000            0.750000   \n",
       "75%       149.310000              NaN  10259.000000            1.120000   \n",
       "max       200.950000         4.770000  24024.000000            7.860000   \n",
       "\n",
       "       Cost_per_Click  Revenue_per_Click  Total_Reservations  \\\n",
       "count       31.000000          18.000000           31.000000   \n",
       "mean         8.368065           4.053889          701.387097   \n",
       "std          2.705433           1.151276          366.832721   \n",
       "min          2.410000           1.940000          225.000000   \n",
       "25%          6.630000                NaN          435.500000   \n",
       "50%          8.810000                NaN          658.000000   \n",
       "75%         10.435000                NaN          806.000000   \n",
       "max         12.640000           6.180000         1667.000000   \n",
       "\n",
       "       Percent_Paid_Search  \n",
       "count            31.000000  \n",
       "mean              0.488710  \n",
       "std               0.173277  \n",
       "min               0.200000  \n",
       "25%               0.370000  \n",
       "50%               0.430000  \n",
       "75%               0.635000  \n",
       "max               0.980000  "
      ]
     },
     "execution_count": 4,
     "metadata": {},
     "output_type": "execute_result"
    }
   ],
   "source": [
    "## basic statistics about the imported data\n",
    "df.describe()"
   ]
  },
  {
   "cell_type": "code",
   "execution_count": 5,
   "metadata": {
    "collapsed": false
   },
   "outputs": [
    {
     "data": {
      "text/html": [
       "<div>\n",
       "<table border=\"1\" class=\"dataframe\">\n",
       "  <thead>\n",
       "    <tr style=\"text-align: right;\">\n",
       "      <th></th>\n",
       "      <th>Sessions</th>\n",
       "      <th>Potential_Revenue</th>\n",
       "      <th>Reservations</th>\n",
       "      <th>Cost</th>\n",
       "      <th>CVR</th>\n",
       "      <th>Avg_Rev_per_Trans</th>\n",
       "      <th>Open_Rooms</th>\n",
       "      <th>Rented_Rooms</th>\n",
       "      <th>Occupancy</th>\n",
       "      <th>Avg_Web_Price</th>\n",
       "      <th>Per_Visit_Value</th>\n",
       "      <th>Clicks</th>\n",
       "      <th>Click_Through_Rate</th>\n",
       "      <th>Cost_per_Click</th>\n",
       "      <th>Revenue_per_Click</th>\n",
       "      <th>Total_Reservations</th>\n",
       "      <th>Percent_Paid_Search</th>\n",
       "    </tr>\n",
       "  </thead>\n",
       "  <tbody>\n",
       "    <tr>\n",
       "      <th>Sessions</th>\n",
       "      <td>1.000000</td>\n",
       "      <td>0.756170</td>\n",
       "      <td>0.777294</td>\n",
       "      <td>0.671250</td>\n",
       "      <td>0.151451</td>\n",
       "      <td>-0.114416</td>\n",
       "      <td>0.012783</td>\n",
       "      <td>0.100733</td>\n",
       "      <td>0.016127</td>\n",
       "      <td>0.087239</td>\n",
       "      <td>0.063590</td>\n",
       "      <td>0.907620</td>\n",
       "      <td>-0.138074</td>\n",
       "      <td>-0.027492</td>\n",
       "      <td>-0.001422</td>\n",
       "      <td>0.630160</td>\n",
       "      <td>-0.075634</td>\n",
       "    </tr>\n",
       "    <tr>\n",
       "      <th>Potential_Revenue</th>\n",
       "      <td>0.756170</td>\n",
       "      <td>1.000000</td>\n",
       "      <td>0.907945</td>\n",
       "      <td>0.860953</td>\n",
       "      <td>0.577286</td>\n",
       "      <td>0.127176</td>\n",
       "      <td>-0.223945</td>\n",
       "      <td>0.315278</td>\n",
       "      <td>0.234886</td>\n",
       "      <td>0.376697</td>\n",
       "      <td>0.689377</td>\n",
       "      <td>0.728169</td>\n",
       "      <td>-0.105029</td>\n",
       "      <td>0.149982</td>\n",
       "      <td>0.643843</td>\n",
       "      <td>0.868633</td>\n",
       "      <td>0.407509</td>\n",
       "    </tr>\n",
       "    <tr>\n",
       "      <th>Reservations</th>\n",
       "      <td>0.777294</td>\n",
       "      <td>0.907945</td>\n",
       "      <td>1.000000</td>\n",
       "      <td>0.739041</td>\n",
       "      <td>0.733250</td>\n",
       "      <td>-0.285366</td>\n",
       "      <td>-0.162554</td>\n",
       "      <td>0.192052</td>\n",
       "      <td>0.170987</td>\n",
       "      <td>0.034604</td>\n",
       "      <td>0.491653</td>\n",
       "      <td>0.640611</td>\n",
       "      <td>0.019350</td>\n",
       "      <td>0.279864</td>\n",
       "      <td>0.489777</td>\n",
       "      <td>0.843740</td>\n",
       "      <td>-0.135799</td>\n",
       "    </tr>\n",
       "    <tr>\n",
       "      <th>Cost</th>\n",
       "      <td>0.671250</td>\n",
       "      <td>0.860953</td>\n",
       "      <td>0.739041</td>\n",
       "      <td>1.000000</td>\n",
       "      <td>0.444909</td>\n",
       "      <td>0.046512</td>\n",
       "      <td>-0.307656</td>\n",
       "      <td>0.446295</td>\n",
       "      <td>0.328535</td>\n",
       "      <td>0.180150</td>\n",
       "      <td>0.369362</td>\n",
       "      <td>0.573884</td>\n",
       "      <td>-0.064841</td>\n",
       "      <td>0.695332</td>\n",
       "      <td>0.295409</td>\n",
       "      <td>0.835320</td>\n",
       "      <td>-0.512345</td>\n",
       "    </tr>\n",
       "    <tr>\n",
       "      <th>CVR</th>\n",
       "      <td>0.151451</td>\n",
       "      <td>0.577286</td>\n",
       "      <td>0.733250</td>\n",
       "      <td>0.444909</td>\n",
       "      <td>1.000000</td>\n",
       "      <td>-0.349655</td>\n",
       "      <td>-0.292189</td>\n",
       "      <td>0.216768</td>\n",
       "      <td>0.275837</td>\n",
       "      <td>-0.049537</td>\n",
       "      <td>0.747070</td>\n",
       "      <td>0.046347</td>\n",
       "      <td>0.201561</td>\n",
       "      <td>0.472850</td>\n",
       "      <td>0.812647</td>\n",
       "      <td>0.614735</td>\n",
       "      <td>-0.097199</td>\n",
       "    </tr>\n",
       "    <tr>\n",
       "      <th>Avg_Rev_per_Trans</th>\n",
       "      <td>-0.114416</td>\n",
       "      <td>0.127176</td>\n",
       "      <td>-0.285366</td>\n",
       "      <td>0.046512</td>\n",
       "      <td>-0.349655</td>\n",
       "      <td>1.000000</td>\n",
       "      <td>-0.407050</td>\n",
       "      <td>0.623013</td>\n",
       "      <td>0.433248</td>\n",
       "      <td>0.901239</td>\n",
       "      <td>0.349739</td>\n",
       "      <td>-0.038780</td>\n",
       "      <td>-0.132738</td>\n",
       "      <td>0.076138</td>\n",
       "      <td>0.227315</td>\n",
       "      <td>-0.163680</td>\n",
       "      <td>-0.420075</td>\n",
       "    </tr>\n",
       "    <tr>\n",
       "      <th>Open_Rooms</th>\n",
       "      <td>0.012783</td>\n",
       "      <td>-0.223945</td>\n",
       "      <td>-0.162554</td>\n",
       "      <td>-0.307656</td>\n",
       "      <td>-0.292189</td>\n",
       "      <td>-0.407050</td>\n",
       "      <td>1.000000</td>\n",
       "      <td>-0.945411</td>\n",
       "      <td>-0.989866</td>\n",
       "      <td>-0.596002</td>\n",
       "      <td>-0.620460</td>\n",
       "      <td>-0.021006</td>\n",
       "      <td>-0.419858</td>\n",
       "      <td>-0.308465</td>\n",
       "      <td>-0.548061</td>\n",
       "      <td>-0.311427</td>\n",
       "      <td>0.380166</td>\n",
       "    </tr>\n",
       "    <tr>\n",
       "      <th>Rented_Rooms</th>\n",
       "      <td>0.100733</td>\n",
       "      <td>0.315278</td>\n",
       "      <td>0.192052</td>\n",
       "      <td>0.446295</td>\n",
       "      <td>0.216768</td>\n",
       "      <td>0.623013</td>\n",
       "      <td>-0.945411</td>\n",
       "      <td>1.000000</td>\n",
       "      <td>0.939653</td>\n",
       "      <td>0.692272</td>\n",
       "      <td>0.608174</td>\n",
       "      <td>0.108517</td>\n",
       "      <td>0.317361</td>\n",
       "      <td>0.409107</td>\n",
       "      <td>0.485826</td>\n",
       "      <td>0.379689</td>\n",
       "      <td>-0.487473</td>\n",
       "    </tr>\n",
       "    <tr>\n",
       "      <th>Occupancy</th>\n",
       "      <td>0.016127</td>\n",
       "      <td>0.234886</td>\n",
       "      <td>0.170987</td>\n",
       "      <td>0.328535</td>\n",
       "      <td>0.275837</td>\n",
       "      <td>0.433248</td>\n",
       "      <td>-0.989866</td>\n",
       "      <td>0.939653</td>\n",
       "      <td>1.000000</td>\n",
       "      <td>0.581588</td>\n",
       "      <td>0.600178</td>\n",
       "      <td>0.068225</td>\n",
       "      <td>0.382418</td>\n",
       "      <td>0.299907</td>\n",
       "      <td>0.509291</td>\n",
       "      <td>0.311349</td>\n",
       "      <td>-0.368415</td>\n",
       "    </tr>\n",
       "    <tr>\n",
       "      <th>Avg_Web_Price</th>\n",
       "      <td>0.087239</td>\n",
       "      <td>0.376697</td>\n",
       "      <td>0.034604</td>\n",
       "      <td>0.180150</td>\n",
       "      <td>-0.049537</td>\n",
       "      <td>0.901239</td>\n",
       "      <td>-0.596002</td>\n",
       "      <td>0.692272</td>\n",
       "      <td>0.581588</td>\n",
       "      <td>1.000000</td>\n",
       "      <td>0.578572</td>\n",
       "      <td>0.084256</td>\n",
       "      <td>0.086906</td>\n",
       "      <td>0.058913</td>\n",
       "      <td>0.438298</td>\n",
       "      <td>0.138744</td>\n",
       "      <td>-0.230434</td>\n",
       "    </tr>\n",
       "    <tr>\n",
       "      <th>Per_Visit_Value</th>\n",
       "      <td>0.063590</td>\n",
       "      <td>0.689377</td>\n",
       "      <td>0.491653</td>\n",
       "      <td>0.369362</td>\n",
       "      <td>0.747070</td>\n",
       "      <td>0.349739</td>\n",
       "      <td>-0.620460</td>\n",
       "      <td>0.608174</td>\n",
       "      <td>0.600178</td>\n",
       "      <td>0.578572</td>\n",
       "      <td>1.000000</td>\n",
       "      <td>0.051714</td>\n",
       "      <td>0.084041</td>\n",
       "      <td>0.493744</td>\n",
       "      <td>0.974974</td>\n",
       "      <td>0.466463</td>\n",
       "      <td>0.372192</td>\n",
       "    </tr>\n",
       "    <tr>\n",
       "      <th>Clicks</th>\n",
       "      <td>0.907620</td>\n",
       "      <td>0.728169</td>\n",
       "      <td>0.640611</td>\n",
       "      <td>0.573884</td>\n",
       "      <td>0.046347</td>\n",
       "      <td>-0.038780</td>\n",
       "      <td>-0.021006</td>\n",
       "      <td>0.108517</td>\n",
       "      <td>0.068225</td>\n",
       "      <td>0.084256</td>\n",
       "      <td>0.051714</td>\n",
       "      <td>1.000000</td>\n",
       "      <td>-0.148111</td>\n",
       "      <td>-0.146941</td>\n",
       "      <td>-0.043750</td>\n",
       "      <td>0.504217</td>\n",
       "      <td>0.013922</td>\n",
       "    </tr>\n",
       "    <tr>\n",
       "      <th>Click_Through_Rate</th>\n",
       "      <td>-0.138074</td>\n",
       "      <td>-0.105029</td>\n",
       "      <td>0.019350</td>\n",
       "      <td>-0.064841</td>\n",
       "      <td>0.201561</td>\n",
       "      <td>-0.132738</td>\n",
       "      <td>-0.419858</td>\n",
       "      <td>0.317361</td>\n",
       "      <td>0.382418</td>\n",
       "      <td>0.086906</td>\n",
       "      <td>0.084041</td>\n",
       "      <td>-0.148111</td>\n",
       "      <td>1.000000</td>\n",
       "      <td>-0.016112</td>\n",
       "      <td>0.119291</td>\n",
       "      <td>0.049192</td>\n",
       "      <td>-0.110756</td>\n",
       "    </tr>\n",
       "    <tr>\n",
       "      <th>Cost_per_Click</th>\n",
       "      <td>-0.027492</td>\n",
       "      <td>0.149982</td>\n",
       "      <td>0.279864</td>\n",
       "      <td>0.695332</td>\n",
       "      <td>0.472850</td>\n",
       "      <td>0.076138</td>\n",
       "      <td>-0.308465</td>\n",
       "      <td>0.409107</td>\n",
       "      <td>0.299907</td>\n",
       "      <td>0.058913</td>\n",
       "      <td>0.493744</td>\n",
       "      <td>-0.146941</td>\n",
       "      <td>-0.016112</td>\n",
       "      <td>1.000000</td>\n",
       "      <td>0.520236</td>\n",
       "      <td>0.536711</td>\n",
       "      <td>-0.638785</td>\n",
       "    </tr>\n",
       "    <tr>\n",
       "      <th>Revenue_per_Click</th>\n",
       "      <td>-0.001422</td>\n",
       "      <td>0.643843</td>\n",
       "      <td>0.489777</td>\n",
       "      <td>0.295409</td>\n",
       "      <td>0.812647</td>\n",
       "      <td>0.227315</td>\n",
       "      <td>-0.548061</td>\n",
       "      <td>0.485826</td>\n",
       "      <td>0.509291</td>\n",
       "      <td>0.438298</td>\n",
       "      <td>0.974974</td>\n",
       "      <td>-0.043750</td>\n",
       "      <td>0.119291</td>\n",
       "      <td>0.520236</td>\n",
       "      <td>1.000000</td>\n",
       "      <td>0.474632</td>\n",
       "      <td>0.377379</td>\n",
       "    </tr>\n",
       "    <tr>\n",
       "      <th>Total_Reservations</th>\n",
       "      <td>0.630160</td>\n",
       "      <td>0.868633</td>\n",
       "      <td>0.843740</td>\n",
       "      <td>0.835320</td>\n",
       "      <td>0.614735</td>\n",
       "      <td>-0.163680</td>\n",
       "      <td>-0.311427</td>\n",
       "      <td>0.379689</td>\n",
       "      <td>0.311349</td>\n",
       "      <td>0.138744</td>\n",
       "      <td>0.466463</td>\n",
       "      <td>0.504217</td>\n",
       "      <td>0.049192</td>\n",
       "      <td>0.536711</td>\n",
       "      <td>0.474632</td>\n",
       "      <td>1.000000</td>\n",
       "      <td>-0.605773</td>\n",
       "    </tr>\n",
       "    <tr>\n",
       "      <th>Percent_Paid_Search</th>\n",
       "      <td>-0.075634</td>\n",
       "      <td>0.407509</td>\n",
       "      <td>-0.135799</td>\n",
       "      <td>-0.512345</td>\n",
       "      <td>-0.097199</td>\n",
       "      <td>-0.420075</td>\n",
       "      <td>0.380166</td>\n",
       "      <td>-0.487473</td>\n",
       "      <td>-0.368415</td>\n",
       "      <td>-0.230434</td>\n",
       "      <td>0.372192</td>\n",
       "      <td>0.013922</td>\n",
       "      <td>-0.110756</td>\n",
       "      <td>-0.638785</td>\n",
       "      <td>0.377379</td>\n",
       "      <td>-0.605773</td>\n",
       "      <td>1.000000</td>\n",
       "    </tr>\n",
       "  </tbody>\n",
       "</table>\n",
       "</div>"
      ],
      "text/plain": [
       "                     Sessions  Potential_Revenue  Reservations      Cost  \\\n",
       "Sessions             1.000000           0.756170      0.777294  0.671250   \n",
       "Potential_Revenue    0.756170           1.000000      0.907945  0.860953   \n",
       "Reservations         0.777294           0.907945      1.000000  0.739041   \n",
       "Cost                 0.671250           0.860953      0.739041  1.000000   \n",
       "CVR                  0.151451           0.577286      0.733250  0.444909   \n",
       "Avg_Rev_per_Trans   -0.114416           0.127176     -0.285366  0.046512   \n",
       "Open_Rooms           0.012783          -0.223945     -0.162554 -0.307656   \n",
       "Rented_Rooms         0.100733           0.315278      0.192052  0.446295   \n",
       "Occupancy            0.016127           0.234886      0.170987  0.328535   \n",
       "Avg_Web_Price        0.087239           0.376697      0.034604  0.180150   \n",
       "Per_Visit_Value      0.063590           0.689377      0.491653  0.369362   \n",
       "Clicks               0.907620           0.728169      0.640611  0.573884   \n",
       "Click_Through_Rate  -0.138074          -0.105029      0.019350 -0.064841   \n",
       "Cost_per_Click      -0.027492           0.149982      0.279864  0.695332   \n",
       "Revenue_per_Click   -0.001422           0.643843      0.489777  0.295409   \n",
       "Total_Reservations   0.630160           0.868633      0.843740  0.835320   \n",
       "Percent_Paid_Search -0.075634           0.407509     -0.135799 -0.512345   \n",
       "\n",
       "                          CVR  Avg_Rev_per_Trans  Open_Rooms  Rented_Rooms  \\\n",
       "Sessions             0.151451          -0.114416    0.012783      0.100733   \n",
       "Potential_Revenue    0.577286           0.127176   -0.223945      0.315278   \n",
       "Reservations         0.733250          -0.285366   -0.162554      0.192052   \n",
       "Cost                 0.444909           0.046512   -0.307656      0.446295   \n",
       "CVR                  1.000000          -0.349655   -0.292189      0.216768   \n",
       "Avg_Rev_per_Trans   -0.349655           1.000000   -0.407050      0.623013   \n",
       "Open_Rooms          -0.292189          -0.407050    1.000000     -0.945411   \n",
       "Rented_Rooms         0.216768           0.623013   -0.945411      1.000000   \n",
       "Occupancy            0.275837           0.433248   -0.989866      0.939653   \n",
       "Avg_Web_Price       -0.049537           0.901239   -0.596002      0.692272   \n",
       "Per_Visit_Value      0.747070           0.349739   -0.620460      0.608174   \n",
       "Clicks               0.046347          -0.038780   -0.021006      0.108517   \n",
       "Click_Through_Rate   0.201561          -0.132738   -0.419858      0.317361   \n",
       "Cost_per_Click       0.472850           0.076138   -0.308465      0.409107   \n",
       "Revenue_per_Click    0.812647           0.227315   -0.548061      0.485826   \n",
       "Total_Reservations   0.614735          -0.163680   -0.311427      0.379689   \n",
       "Percent_Paid_Search -0.097199          -0.420075    0.380166     -0.487473   \n",
       "\n",
       "                     Occupancy  Avg_Web_Price  Per_Visit_Value    Clicks  \\\n",
       "Sessions              0.016127       0.087239         0.063590  0.907620   \n",
       "Potential_Revenue     0.234886       0.376697         0.689377  0.728169   \n",
       "Reservations          0.170987       0.034604         0.491653  0.640611   \n",
       "Cost                  0.328535       0.180150         0.369362  0.573884   \n",
       "CVR                   0.275837      -0.049537         0.747070  0.046347   \n",
       "Avg_Rev_per_Trans     0.433248       0.901239         0.349739 -0.038780   \n",
       "Open_Rooms           -0.989866      -0.596002        -0.620460 -0.021006   \n",
       "Rented_Rooms          0.939653       0.692272         0.608174  0.108517   \n",
       "Occupancy             1.000000       0.581588         0.600178  0.068225   \n",
       "Avg_Web_Price         0.581588       1.000000         0.578572  0.084256   \n",
       "Per_Visit_Value       0.600178       0.578572         1.000000  0.051714   \n",
       "Clicks                0.068225       0.084256         0.051714  1.000000   \n",
       "Click_Through_Rate    0.382418       0.086906         0.084041 -0.148111   \n",
       "Cost_per_Click        0.299907       0.058913         0.493744 -0.146941   \n",
       "Revenue_per_Click     0.509291       0.438298         0.974974 -0.043750   \n",
       "Total_Reservations    0.311349       0.138744         0.466463  0.504217   \n",
       "Percent_Paid_Search  -0.368415      -0.230434         0.372192  0.013922   \n",
       "\n",
       "                     Click_Through_Rate  Cost_per_Click  Revenue_per_Click  \\\n",
       "Sessions                      -0.138074       -0.027492          -0.001422   \n",
       "Potential_Revenue             -0.105029        0.149982           0.643843   \n",
       "Reservations                   0.019350        0.279864           0.489777   \n",
       "Cost                          -0.064841        0.695332           0.295409   \n",
       "CVR                            0.201561        0.472850           0.812647   \n",
       "Avg_Rev_per_Trans             -0.132738        0.076138           0.227315   \n",
       "Open_Rooms                    -0.419858       -0.308465          -0.548061   \n",
       "Rented_Rooms                   0.317361        0.409107           0.485826   \n",
       "Occupancy                      0.382418        0.299907           0.509291   \n",
       "Avg_Web_Price                  0.086906        0.058913           0.438298   \n",
       "Per_Visit_Value                0.084041        0.493744           0.974974   \n",
       "Clicks                        -0.148111       -0.146941          -0.043750   \n",
       "Click_Through_Rate             1.000000       -0.016112           0.119291   \n",
       "Cost_per_Click                -0.016112        1.000000           0.520236   \n",
       "Revenue_per_Click              0.119291        0.520236           1.000000   \n",
       "Total_Reservations             0.049192        0.536711           0.474632   \n",
       "Percent_Paid_Search           -0.110756       -0.638785           0.377379   \n",
       "\n",
       "                     Total_Reservations  Percent_Paid_Search  \n",
       "Sessions                       0.630160            -0.075634  \n",
       "Potential_Revenue              0.868633             0.407509  \n",
       "Reservations                   0.843740            -0.135799  \n",
       "Cost                           0.835320            -0.512345  \n",
       "CVR                            0.614735            -0.097199  \n",
       "Avg_Rev_per_Trans             -0.163680            -0.420075  \n",
       "Open_Rooms                    -0.311427             0.380166  \n",
       "Rented_Rooms                   0.379689            -0.487473  \n",
       "Occupancy                      0.311349            -0.368415  \n",
       "Avg_Web_Price                  0.138744            -0.230434  \n",
       "Per_Visit_Value                0.466463             0.372192  \n",
       "Clicks                         0.504217             0.013922  \n",
       "Click_Through_Rate             0.049192            -0.110756  \n",
       "Cost_per_Click                 0.536711            -0.638785  \n",
       "Revenue_per_Click              0.474632             0.377379  \n",
       "Total_Reservations             1.000000            -0.605773  \n",
       "Percent_Paid_Search           -0.605773             1.000000  "
      ]
     },
     "execution_count": 5,
     "metadata": {},
     "output_type": "execute_result"
    }
   ],
   "source": [
    "df.corr()"
   ]
  },
  {
   "cell_type": "code",
   "execution_count": 25,
   "metadata": {
    "collapsed": false
   },
   "outputs": [
    {
     "data": {
      "text/plain": [
       "Sessions               0.777294\n",
       "Potential_Revenue      0.907945\n",
       "Reservations           1.000000\n",
       "Cost                   0.739041\n",
       "CVR                    0.733250\n",
       "Avg_Rev_per_Trans     -0.285366\n",
       "Open_Rooms            -0.162554\n",
       "Rented_Rooms           0.192052\n",
       "Occupancy              0.170987\n",
       "Avg_Web_Price          0.034604\n",
       "Per_Visit_Value        0.491653\n",
       "Clicks                 0.640611\n",
       "Click_Through_Rate     0.019350\n",
       "Cost_per_Click         0.279864\n",
       "Revenue_per_Click      0.489777\n",
       "Total_Reservations     0.843740\n",
       "Percent_Paid_Search   -0.135799\n",
       "Name: Reservations, dtype: float64"
      ]
     },
     "execution_count": 25,
     "metadata": {},
     "output_type": "execute_result"
    }
   ],
   "source": [
    "df.corr()['Reservations']"
   ]
  },
  {
   "cell_type": "code",
   "execution_count": 11,
   "metadata": {
    "collapsed": false,
    "scrolled": true
   },
   "outputs": [
    {
     "data": {
      "text/plain": [
       "<matplotlib.axes._subplots.AxesSubplot at 0xc1ba160>"
      ]
     },
     "execution_count": 11,
     "metadata": {},
     "output_type": "execute_result"
    },
    {
     "data": {
      "image/png": "[encoded data removed]",
      "text/plain": [
       "<matplotlib.figure.Figure at 0xc377748>"
      ]
     },
     "metadata": {},
     "output_type": "display_data"
    }
   ],
   "source": [
    "df[['Reservations']].plot(kind = 'box')"
   ]
  },
  {
   "cell_type": "code",
   "execution_count": 16,
   "metadata": {
    "collapsed": false
   },
   "outputs": [
    {
     "data": {
      "text/plain": [
       "<matplotlib.axes._subplots.AxesSubplot at 0xccb55c0>"
      ]
     },
     "execution_count": 16,
     "metadata": {},
     "output_type": "execute_result"
    },
    {
     "data": {
      "image/png": "[encoded data removed]",
      "text/plain": [
       "<matplotlib.figure.Figure at 0xcdb1198>"
      ]
     },
     "metadata": {},
     "output_type": "display_data"
    }
   ],
   "source": [
    "df[['Sessions']].plot(kind = 'box') "
   ]
  },
  {
   "cell_type": "code",
   "execution_count": 17,
   "metadata": {
    "collapsed": false
   },
   "outputs": [
    {
     "data": {
      "text/plain": [
       "<matplotlib.axes._subplots.AxesSubplot at 0xcedc6d8>"
      ]
     },
     "execution_count": 17,
     "metadata": {},
     "output_type": "execute_result"
    },
    {
     "data": {
      "image/png": "[encoded data removed]",
      "text/plain": [
       "<matplotlib.figure.Figure at 0xcacdef0>"
      ]
     },
     "metadata": {},
     "output_type": "display_data"
    }
   ],
   "source": [
    "df[['Potential_Revenue']].plot(kind = 'box') "
   ]
  },
  {
   "cell_type": "code",
   "execution_count": 8,
   "metadata": {
    "collapsed": false,
    "scrolled": true
   },
   "outputs": [
    {
     "data": {
      "text/plain": [
       "<matplotlib.axes._subplots.AxesSubplot at 0xba45e10>"
      ]
     },
     "execution_count": 8,
     "metadata": {},
     "output_type": "execute_result"
    },
    {
     "data": {
      "image/png": "[encoded data removed]",
      "text/plain": [
       "<matplotlib.figure.Figure at 0xba25e10>"
      ]
     },
     "metadata": {},
     "output_type": "display_data"
    }
   ],
   "source": [
    "df[['Cost']].plot(kind = 'box')"
   ]
  },
  {
   "cell_type": "code",
   "execution_count": 15,
   "metadata": {
    "collapsed": false
   },
   "outputs": [
    {
     "data": {
      "text/plain": [
       "<matplotlib.axes._subplots.AxesSubplot at 0xcadd828>"
      ]
     },
     "execution_count": 15,
     "metadata": {},
     "output_type": "execute_result"
    },
    {
     "data": {
      "image/png": "[encoded data removed]",
      "text/plain": [
       "<matplotlib.figure.Figure at 0xcc379b0>"
      ]
     },
     "metadata": {},
     "output_type": "display_data"
    }
   ],
   "source": [
    "df[['CVR']].plot(kind = 'box') "
   ]
  },
  {
   "cell_type": "code",
   "execution_count": 18,
   "metadata": {
    "collapsed": false
   },
   "outputs": [
    {
     "data": {
      "text/plain": [
       "<matplotlib.axes._subplots.AxesSubplot at 0xd158828>"
      ]
     },
     "execution_count": 18,
     "metadata": {},
     "output_type": "execute_result"
    },
    {
     "data": {
      "image/png": "[encoded data removed]",
      "text/plain": [
       "<matplotlib.figure.Figure at 0xd16f390>"
      ]
     },
     "metadata": {},
     "output_type": "display_data"
    }
   ],
   "source": [
    "df[['Clicks']].plot(kind = 'box') "
   ]
  },
  {
   "cell_type": "code",
   "execution_count": 19,
   "metadata": {
    "collapsed": false
   },
   "outputs": [
    {
     "data": {
      "text/plain": [
       "<matplotlib.axes._subplots.AxesSubplot at 0xcec44a8>"
      ]
     },
     "execution_count": 19,
     "metadata": {},
     "output_type": "execute_result"
    },
    {
     "data": {
      "image/png": "[encoded data removed]",
      "text/plain": [
       "<matplotlib.figure.Figure at 0xd22a550>"
      ]
     },
     "metadata": {},
     "output_type": "display_data"
    }
   ],
   "source": [
    "df[['Avg_Web_Price']].plot(kind = 'box') "
   ]
  },
  {
   "cell_type": "code",
   "execution_count": 20,
   "metadata": {
    "collapsed": false
   },
   "outputs": [
    {
     "data": {
      "text/plain": [
       "<matplotlib.axes._subplots.AxesSubplot at 0xd44d9b0>"
      ]
     },
     "execution_count": 20,
     "metadata": {},
     "output_type": "execute_result"
    },
    {
     "data": {
      "image/png": "[encoded data removed]",
      "text/plain": [
       "<matplotlib.figure.Figure at 0xd464eb8>"
      ]
     },
     "metadata": {},
     "output_type": "display_data"
    }
   ],
   "source": [
    "df[['Occupancy']].plot(kind = 'box') "
   ]
  },
  {
   "cell_type": "code",
   "execution_count": 21,
   "metadata": {
    "collapsed": false
   },
   "outputs": [
    {
     "data": {
      "text/plain": [
       "<matplotlib.axes._subplots.AxesSubplot at 0xda72128>"
      ]
     },
     "execution_count": 21,
     "metadata": {},
     "output_type": "execute_result"
    },
    {
     "data": {
      "image/png": "[encoded data removed]",
      "text/plain": [
       "<matplotlib.figure.Figure at 0xd64d048>"
      ]
     },
     "metadata": {},
     "output_type": "display_data"
    }
   ],
   "source": [
    "# Making the graphs a bit prettier\n",
    "plt.style.use('ggplot')\n",
    "\n",
    "# visualize the relationship between the features and the response using scatterplots\n",
    "fig, axs = plt.subplots(1, 3, sharey=True)\n",
    "df.plot(kind='scatter', x='Cost', y='Reservations', ax=axs[0], figsize=(16, 8))\n",
    "df.plot(kind='scatter', x='Sessions', y='Reservations', ax=axs[1])\n",
    "df.plot(kind='scatter', x='Clicks', y='Reservations', ax=axs[2])"
   ]
  },
  {
   "cell_type": "code",
   "execution_count": 24,
   "metadata": {
    "collapsed": false
   },
   "outputs": [
    {
     "data": {
      "text/html": [
       "<table class=\"simpletable\">\n",
       "<caption>OLS Regression Results</caption>\n",
       "<tr>\n",
       "  <th>Dep. Variable:</th>      <td>Reservations</td>   <th>  R-squared:         </th> <td>   0.705</td>\n",
       "</tr>\n",
       "<tr>\n",
       "  <th>Model:</th>                   <td>OLS</td>       <th>  Adj. R-squared:    </th> <td>   0.672</td>\n",
       "</tr>\n",
       "<tr>\n",
       "  <th>Method:</th>             <td>Least Squares</td>  <th>  F-statistic:       </th> <td>   21.51</td>\n",
       "</tr>\n",
       "<tr>\n",
       "  <th>Date:</th>             <td>Thu, 18 Aug 2016</td> <th>  Prob (F-statistic):</th> <td>2.52e-07</td>\n",
       "</tr>\n",
       "<tr>\n",
       "  <th>Time:</th>                 <td>10:23:45</td>     <th>  Log-Likelihood:    </th> <td> -172.77</td>\n",
       "</tr>\n",
       "<tr>\n",
       "  <th>No. Observations:</th>      <td>    31</td>      <th>  AIC:               </th> <td>   353.5</td>\n",
       "</tr>\n",
       "<tr>\n",
       "  <th>Df Residuals:</th>          <td>    27</td>      <th>  BIC:               </th> <td>   359.3</td>\n",
       "</tr>\n",
       "<tr>\n",
       "  <th>Df Model:</th>              <td>     3</td>      <th>                     </th>     <td> </td>   \n",
       "</tr>\n",
       "<tr>\n",
       "  <th>Covariance Type:</th>      <td>nonrobust</td>    <th>                     </th>     <td> </td>   \n",
       "</tr>\n",
       "</table>\n",
       "<table class=\"simpletable\">\n",
       "<tr>\n",
       "      <td></td>         <th>coef</th>     <th>std err</th>      <th>t</th>      <th>P>|t|</th> <th>[95.0% Conf. Int.]</th> \n",
       "</tr>\n",
       "<tr>\n",
       "  <th>Intercept</th> <td>  -46.2098</td> <td>   50.423</td> <td>   -0.916</td> <td> 0.368</td> <td> -149.668    57.249</td>\n",
       "</tr>\n",
       "<tr>\n",
       "  <th>Cost</th>      <td>    0.0013</td> <td>    0.000</td> <td>    2.654</td> <td> 0.013</td> <td>    0.000     0.002</td>\n",
       "</tr>\n",
       "<tr>\n",
       "  <th>Sessions</th>  <td>    0.0286</td> <td>    0.010</td> <td>    2.853</td> <td> 0.008</td> <td>    0.008     0.049</td>\n",
       "</tr>\n",
       "<tr>\n",
       "  <th>Clicks</th>    <td>   -0.0102</td> <td>    0.009</td> <td>   -1.167</td> <td> 0.253</td> <td>   -0.028     0.008</td>\n",
       "</tr>\n",
       "</table>\n",
       "<table class=\"simpletable\">\n",
       "<tr>\n",
       "  <th>Omnibus:</th>       <td> 2.145</td> <th>  Durbin-Watson:     </th> <td>   1.650</td>\n",
       "</tr>\n",
       "<tr>\n",
       "  <th>Prob(Omnibus):</th> <td> 0.342</td> <th>  Jarque-Bera (JB):  </th> <td>   1.097</td>\n",
       "</tr>\n",
       "<tr>\n",
       "  <th>Skew:</th>          <td>-0.417</td> <th>  Prob(JB):          </th> <td>   0.578</td>\n",
       "</tr>\n",
       "<tr>\n",
       "  <th>Kurtosis:</th>      <td> 3.392</td> <th>  Cond. No.          </th> <td>3.52e+05</td>\n",
       "</tr>\n",
       "</table>"
      ],
      "text/plain": [
       "<class 'statsmodels.iolib.summary.Summary'>\n",
       "\"\"\"\n",
       "                            OLS Regression Results                            \n",
       "==============================================================================\n",
       "Dep. Variable:           Reservations   R-squared:                       0.705\n",
       "Model:                            OLS   Adj. R-squared:                  0.672\n",
       "Method:                 Least Squares   F-statistic:                     21.51\n",
       "Date:                Thu, 18 Aug 2016   Prob (F-statistic):           2.52e-07\n",
       "Time:                        10:23:45   Log-Likelihood:                -172.77\n",
       "No. Observations:                  31   AIC:                             353.5\n",
       "Df Residuals:                      27   BIC:                             359.3\n",
       "Df Model:                           3                                         \n",
       "Covariance Type:            nonrobust                                         \n",
       "==============================================================================\n",
       "                 coef    std err          t      P>|t|      [95.0% Conf. Int.]\n",
       "------------------------------------------------------------------------------\n",
       "Intercept    -46.2098     50.423     -0.916      0.368      -149.668    57.249\n",
       "Cost           0.0013      0.000      2.654      0.013         0.000     0.002\n",
       "Sessions       0.0286      0.010      2.853      0.008         0.008     0.049\n",
       "Clicks        -0.0102      0.009     -1.167      0.253        -0.028     0.008\n",
       "==============================================================================\n",
       "Omnibus:                        2.145   Durbin-Watson:                   1.650\n",
       "Prob(Omnibus):                  0.342   Jarque-Bera (JB):                1.097\n",
       "Skew:                          -0.417   Prob(JB):                        0.578\n",
       "Kurtosis:                       3.392   Cond. No.                     3.52e+05\n",
       "==============================================================================\n",
       "\n",
       "Warnings:\n",
       "[1] Standard Errors assume that the covariance matrix of the errors is correctly specified.\n",
       "[2] The condition number is large, 3.52e+05. This might indicate that there are\n",
       "strong multicollinearity or other numerical problems.\n",
       "\"\"\""
      ]
     },
     "execution_count": 24,
     "metadata": {},
     "output_type": "execute_result"
    }
   ],
   "source": [
    "# create a fitted linear regression model using only Cost, Sessions and Clicks because they most correlated to Reservations\n",
    "# I didn't use Potential Revenue, CVR or Total Reservations because they are calculated using Reservations\n",
    "lm = smf.ols(formula='Reservations ~ Cost + Sessions + Clicks', data=df).fit()\n",
    "\n",
    "#print the full summary\n",
    "lm.summary()"
   ]
  },
  {
   "cell_type": "code",
   "execution_count": null,
   "metadata": {
    "collapsed": true
   },
   "outputs": [],
   "source": [
    "## Since 0 is in the confidence interval for the coefficient of Clicks, I am going to remove Clicks from the model"
   ]
  },
  {
   "cell_type": "code",
   "execution_count": 23,
   "metadata": {
    "collapsed": false
   },
   "outputs": [
    {
     "data": {
      "text/html": [
       "<table class=\"simpletable\">\n",
       "<caption>OLS Regression Results</caption>\n",
       "<tr>\n",
       "  <th>Dep. Variable:</th>      <td>Reservations</td>   <th>  R-squared:         </th> <td>   0.690</td>\n",
       "</tr>\n",
       "<tr>\n",
       "  <th>Model:</th>                   <td>OLS</td>       <th>  Adj. R-squared:    </th> <td>   0.668</td>\n",
       "</tr>\n",
       "<tr>\n",
       "  <th>Method:</th>             <td>Least Squares</td>  <th>  F-statistic:       </th> <td>   31.18</td>\n",
       "</tr>\n",
       "<tr>\n",
       "  <th>Date:</th>             <td>Thu, 18 Aug 2016</td> <th>  Prob (F-statistic):</th> <td>7.53e-08</td>\n",
       "</tr>\n",
       "<tr>\n",
       "  <th>Time:</th>                 <td>10:22:53</td>     <th>  Log-Likelihood:    </th> <td> -173.54</td>\n",
       "</tr>\n",
       "<tr>\n",
       "  <th>No. Observations:</th>      <td>    31</td>      <th>  AIC:               </th> <td>   353.1</td>\n",
       "</tr>\n",
       "<tr>\n",
       "  <th>Df Residuals:</th>          <td>    28</td>      <th>  BIC:               </th> <td>   357.4</td>\n",
       "</tr>\n",
       "<tr>\n",
       "  <th>Df Model:</th>              <td>     2</td>      <th>                     </th>     <td> </td>   \n",
       "</tr>\n",
       "<tr>\n",
       "  <th>Covariance Type:</th>      <td>nonrobust</td>    <th>                     </th>     <td> </td>   \n",
       "</tr>\n",
       "</table>\n",
       "<table class=\"simpletable\">\n",
       "<tr>\n",
       "      <td></td>         <th>coef</th>     <th>std err</th>      <th>t</th>      <th>P>|t|</th> <th>[95.0% Conf. Int.]</th> \n",
       "</tr>\n",
       "<tr>\n",
       "  <th>Intercept</th> <td>  -30.9094</td> <td>   49.004</td> <td>   -0.631</td> <td> 0.533</td> <td> -131.290    69.471</td>\n",
       "</tr>\n",
       "<tr>\n",
       "  <th>Cost</th>      <td>    0.0014</td> <td>    0.000</td> <td>    2.786</td> <td> 0.009</td> <td>    0.000     0.002</td>\n",
       "</tr>\n",
       "<tr>\n",
       "  <th>Sessions</th>  <td>    0.0186</td> <td>    0.005</td> <td>    3.606</td> <td> 0.001</td> <td>    0.008     0.029</td>\n",
       "</tr>\n",
       "</table>\n",
       "<table class=\"simpletable\">\n",
       "<tr>\n",
       "  <th>Omnibus:</th>       <td> 2.284</td> <th>  Durbin-Watson:     </th> <td>   1.613</td>\n",
       "</tr>\n",
       "<tr>\n",
       "  <th>Prob(Omnibus):</th> <td> 0.319</td> <th>  Jarque-Bera (JB):  </th> <td>   1.083</td>\n",
       "</tr>\n",
       "<tr>\n",
       "  <th>Skew:</th>          <td>-0.303</td> <th>  Prob(JB):          </th> <td>   0.582</td>\n",
       "</tr>\n",
       "<tr>\n",
       "  <th>Kurtosis:</th>      <td> 3.687</td> <th>  Cond. No.          </th> <td>3.38e+05</td>\n",
       "</tr>\n",
       "</table>"
      ],
      "text/plain": [
       "<class 'statsmodels.iolib.summary.Summary'>\n",
       "\"\"\"\n",
       "                            OLS Regression Results                            \n",
       "==============================================================================\n",
       "Dep. Variable:           Reservations   R-squared:                       0.690\n",
       "Model:                            OLS   Adj. R-squared:                  0.668\n",
       "Method:                 Least Squares   F-statistic:                     31.18\n",
       "Date:                Thu, 18 Aug 2016   Prob (F-statistic):           7.53e-08\n",
       "Time:                        10:22:53   Log-Likelihood:                -173.54\n",
       "No. Observations:                  31   AIC:                             353.1\n",
       "Df Residuals:                      28   BIC:                             357.4\n",
       "Df Model:                           2                                         \n",
       "Covariance Type:            nonrobust                                         \n",
       "==============================================================================\n",
       "                 coef    std err          t      P>|t|      [95.0% Conf. Int.]\n",
       "------------------------------------------------------------------------------\n",
       "Intercept    -30.9094     49.004     -0.631      0.533      -131.290    69.471\n",
       "Cost           0.0014      0.000      2.786      0.009         0.000     0.002\n",
       "Sessions       0.0186      0.005      3.606      0.001         0.008     0.029\n",
       "==============================================================================\n",
       "Omnibus:                        2.284   Durbin-Watson:                   1.613\n",
       "Prob(Omnibus):                  0.319   Jarque-Bera (JB):                1.083\n",
       "Skew:                          -0.303   Prob(JB):                        0.582\n",
       "Kurtosis:                       3.687   Cond. No.                     3.38e+05\n",
       "==============================================================================\n",
       "\n",
       "Warnings:\n",
       "[1] Standard Errors assume that the covariance matrix of the errors is correctly specified.\n",
       "[2] The condition number is large, 3.38e+05. This might indicate that there are\n",
       "strong multicollinearity or other numerical problems.\n",
       "\"\"\""
      ]
     },
     "execution_count": 23,
     "metadata": {},
     "output_type": "execute_result"
    }
   ],
   "source": [
    "# create a fitted linear regression model using only Cost and Sessions as the independent variables\n",
    "lm = smf.ols(formula='Reservations ~ Cost + Sessions', data=df).fit()\n",
    "\n",
    "#print the full summary\n",
    "lm.summary()"
   ]
  },
  {
   "cell_type": "code",
   "execution_count": null,
   "metadata": {
    "collapsed": true
   },
   "outputs": [],
   "source": [
    "# This model produced an R^2 of 0.69"
   ]
  },
  {
   "cell_type": "code",
   "execution_count": 27,
   "metadata": {
    "collapsed": false
   },
   "outputs": [
    {
     "data": {
      "text/html": [
       "<table class=\"simpletable\">\n",
       "<caption>OLS Regression Results</caption>\n",
       "<tr>\n",
       "  <th>Dep. Variable:</th>      <td>Reservations</td>   <th>  R-squared:         </th> <td>   0.546</td>\n",
       "</tr>\n",
       "<tr>\n",
       "  <th>Model:</th>                   <td>OLS</td>       <th>  Adj. R-squared:    </th> <td>   0.531</td>\n",
       "</tr>\n",
       "<tr>\n",
       "  <th>Method:</th>             <td>Least Squares</td>  <th>  F-statistic:       </th> <td>   34.90</td>\n",
       "</tr>\n",
       "<tr>\n",
       "  <th>Date:</th>             <td>Thu, 18 Aug 2016</td> <th>  Prob (F-statistic):</th> <td>2.05e-06</td>\n",
       "</tr>\n",
       "<tr>\n",
       "  <th>Time:</th>                 <td>10:43:53</td>     <th>  Log-Likelihood:    </th> <td> -179.45</td>\n",
       "</tr>\n",
       "<tr>\n",
       "  <th>No. Observations:</th>      <td>    31</td>      <th>  AIC:               </th> <td>   362.9</td>\n",
       "</tr>\n",
       "<tr>\n",
       "  <th>Df Residuals:</th>          <td>    29</td>      <th>  BIC:               </th> <td>   365.8</td>\n",
       "</tr>\n",
       "<tr>\n",
       "  <th>Df Model:</th>              <td>     1</td>      <th>                     </th>     <td> </td>   \n",
       "</tr>\n",
       "<tr>\n",
       "  <th>Covariance Type:</th>      <td>nonrobust</td>    <th>                     </th>     <td> </td>   \n",
       "</tr>\n",
       "</table>\n",
       "<table class=\"simpletable\">\n",
       "<tr>\n",
       "      <td></td>         <th>coef</th>     <th>std err</th>      <th>t</th>      <th>P>|t|</th> <th>[95.0% Conf. Int.]</th> \n",
       "</tr>\n",
       "<tr>\n",
       "  <th>Intercept</th> <td>  106.4934</td> <td>   36.645</td> <td>    2.906</td> <td> 0.007</td> <td>   31.546   181.441</td>\n",
       "</tr>\n",
       "<tr>\n",
       "  <th>Cost</th>      <td>    0.0026</td> <td>    0.000</td> <td>    5.908</td> <td> 0.000</td> <td>    0.002     0.003</td>\n",
       "</tr>\n",
       "</table>\n",
       "<table class=\"simpletable\">\n",
       "<tr>\n",
       "  <th>Omnibus:</th>       <td> 0.954</td> <th>  Durbin-Watson:     </th> <td>   1.683</td>\n",
       "</tr>\n",
       "<tr>\n",
       "  <th>Prob(Omnibus):</th> <td> 0.621</td> <th>  Jarque-Bera (JB):  </th> <td>   0.189</td>\n",
       "</tr>\n",
       "<tr>\n",
       "  <th>Skew:</th>          <td> 0.014</td> <th>  Prob(JB):          </th> <td>   0.910</td>\n",
       "</tr>\n",
       "<tr>\n",
       "  <th>Kurtosis:</th>      <td> 3.381</td> <th>  Cond. No.          </th> <td>2.10e+05</td>\n",
       "</tr>\n",
       "</table>"
      ],
      "text/plain": [
       "<class 'statsmodels.iolib.summary.Summary'>\n",
       "\"\"\"\n",
       "                            OLS Regression Results                            \n",
       "==============================================================================\n",
       "Dep. Variable:           Reservations   R-squared:                       0.546\n",
       "Model:                            OLS   Adj. R-squared:                  0.531\n",
       "Method:                 Least Squares   F-statistic:                     34.90\n",
       "Date:                Thu, 18 Aug 2016   Prob (F-statistic):           2.05e-06\n",
       "Time:                        10:43:53   Log-Likelihood:                -179.45\n",
       "No. Observations:                  31   AIC:                             362.9\n",
       "Df Residuals:                      29   BIC:                             365.8\n",
       "Df Model:                           1                                         \n",
       "Covariance Type:            nonrobust                                         \n",
       "==============================================================================\n",
       "                 coef    std err          t      P>|t|      [95.0% Conf. Int.]\n",
       "------------------------------------------------------------------------------\n",
       "Intercept    106.4934     36.645      2.906      0.007        31.546   181.441\n",
       "Cost           0.0026      0.000      5.908      0.000         0.002     0.003\n",
       "==============================================================================\n",
       "Omnibus:                        0.954   Durbin-Watson:                   1.683\n",
       "Prob(Omnibus):                  0.621   Jarque-Bera (JB):                0.189\n",
       "Skew:                           0.014   Prob(JB):                        0.910\n",
       "Kurtosis:                       3.381   Cond. No.                     2.10e+05\n",
       "==============================================================================\n",
       "\n",
       "Warnings:\n",
       "[1] Standard Errors assume that the covariance matrix of the errors is correctly specified.\n",
       "[2] The condition number is large, 2.1e+05. This might indicate that there are\n",
       "strong multicollinearity or other numerical problems.\n",
       "\"\"\""
      ]
     },
     "execution_count": 27,
     "metadata": {},
     "output_type": "execute_result"
    }
   ],
   "source": [
    "# create a fitted linear regression model using only Cost as the independent variable\n",
    "lm = smf.ols(formula='Reservations ~ Cost', data=df).fit()\n",
    "\n",
    "#print the full summary\n",
    "lm.summary()"
   ]
  },
  {
   "cell_type": "code",
   "execution_count": null,
   "metadata": {
    "collapsed": true
   },
   "outputs": [],
   "source": [
    "# This model produced an R^2 of 0.546\n",
    "# I think I am going to do a Time Series Analysis to see if there is a better model"
   ]
  }
 ],
 "metadata": {
  "kernelspec": {
   "display_name": "Python [Root]",
   "language": "python",
   "name": "Python [Root]"
  },
  "language_info": {
   "codemirror_mode": {
    "name": "ipython",
    "version": 2
   },
   "file_extension": ".py",
   "mimetype": "text/x-python",
   "name": "python",
   "nbconvert_exporter": "python",
   "pygments_lexer": "ipython2",
   "version": "2.7.11"
  }
 },
 "nbformat": 4,
 "nbformat_minor": 0
}
