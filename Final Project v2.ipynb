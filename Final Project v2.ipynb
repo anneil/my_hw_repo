{
 "cells": [
  {
   "cell_type": "code",
   "execution_count": 1,
   "metadata": {
    "collapsed": true
   },
   "outputs": [],
   "source": [
    "%matplotlib inline\n",
    "import pandas as pd\n",
    "import numpy as np\n",
    "import matplotlib.pyplot as plt\n",
    "import datetime\n",
    "from dateutil.relativedelta import relativedelta\n",
    "import statsmodels.api as sm  \n",
    "from statsmodels.tsa.stattools import acf  \n",
    "from statsmodels.tsa.stattools import pacf\n",
    "from statsmodels.tsa.seasonal import seasonal_decompose"
   ]
  },
  {
   "cell_type": "code",
   "execution_count": 3,
   "metadata": {
    "collapsed": false
   },
   "outputs": [],
   "source": [
    "df = pd.read_csv('P://Python/cost_res_month.csv', index_col=0)\n",
    "df.index.name=None\n",
    "df.reset_index(inplace=True)\n",
    "df.drop(df.index[30], inplace=True)"
   ]
  },
  {
   "cell_type": "code",
   "execution_count": 4,
   "metadata": {
    "collapsed": true
   },
   "outputs": [],
   "source": [
    "start = datetime.datetime.strptime(\"2014-01-01\", \"%Y-%m-%d\")\n",
    "date_list = [start + relativedelta(months=x) for x in range(0,30)]\n",
    "df['index'] =date_list\n",
    "df.set_index(['index'], inplace=True)\n",
    "df.index.name=None"
   ]
  },
  {
   "cell_type": "code",
   "execution_count": 5,
   "metadata": {
    "collapsed": false
   },
   "outputs": [
    {
     "name": "stdout",
     "output_type": "stream",
     "text": [
      "            Reservations       Cost\n",
      "2014-01-01           276   44038.24\n",
      "2014-02-01           143   23930.45\n",
      "2014-03-01           227   33261.70\n",
      "2014-04-01           334   44326.36\n",
      "2014-05-01           387   34999.67\n",
      "2014-06-01           195   51546.41\n",
      "2014-07-01           248   46004.16\n",
      "2014-08-01           270   45147.12\n",
      "2014-09-01           237   61914.14\n",
      "2014-10-01           277   77243.33\n",
      "2014-11-01           285   77458.52\n",
      "2014-12-01           230   55007.10\n",
      "2015-01-01           252   64742.11\n",
      "2015-02-01           154   45173.77\n",
      "2015-03-01           189   59284.05\n",
      "2015-04-01           426   95913.62\n",
      "2015-05-01           571  133865.80\n",
      "2015-06-01           253   92554.23\n",
      "2015-07-01           353   92373.40\n",
      "2015-08-01           427  103687.22\n",
      "2015-09-01           289   64798.55\n",
      "2015-10-01           411   92188.01\n",
      "2015-11-01           345  108509.40\n",
      "2015-12-01           296   86545.97\n",
      "2016-01-01           326   90313.80\n",
      "2016-02-01           182   86506.91\n",
      "2016-03-01           125   83566.48\n",
      "2016-04-01           505  108179.62\n",
      "2016-05-01           640  192555.50\n",
      "2016-06-01           296  100552.75\n"
     ]
    }
   ],
   "source": [
    "print df"
   ]
  },
  {
   "cell_type": "code",
   "execution_count": null,
   "metadata": {
    "collapsed": true
   },
   "outputs": [],
   "source": [
    "df.columns= ['Reservations']\n",
    "df['Reservations'] = df.riders.apply(lambda x: int(x))\n",
    "print df"
   ]
  },
  {
   "cell_type": "code",
   "execution_count": null,
   "metadata": {
    "collapsed": true
   },
   "outputs": [],
   "source": []
  }
 ],
 "metadata": {
  "kernelspec": {
   "display_name": "Python [Root]",
   "language": "python",
   "name": "Python [Root]"
  },
  "language_info": {
   "codemirror_mode": {
    "name": "ipython",
    "version": 2
   },
   "file_extension": ".py",
   "mimetype": "text/x-python",
   "name": "python",
   "nbconvert_exporter": "python",
   "pygments_lexer": "ipython2",
   "version": "2.7.11"
  }
 },
 "nbformat": 4,
 "nbformat_minor": 0
}
